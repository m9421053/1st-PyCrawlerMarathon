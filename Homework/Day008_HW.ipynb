{
 "cells": [
  {
   "cell_type": "markdown",
   "metadata": {},
   "source": [
    "# 靜態網頁的資料爬蟲策略\n",
    "\n",
    "\n",
    "* 了解靜態網頁的資料爬蟲策略\n",
    "* 認識適用於靜態網頁爬蟲的相關套件工具：Request\n",
    "* 認識適用於靜態網頁爬蟲的相關套件工具：BeatifulSoup"
   ]
  },
  {
   "cell_type": "markdown",
   "metadata": {},
   "source": [
    "## 作業目標\n",
    "\n",
    "利用 Request + BeatifulSoup 爬取下列兩個網站內容並解析：\n",
    "\n",
    "1. Dcared 網址： https://www.dcard.tw/f\n",
    "2. 知乎： https://www.zhihu.com/explore\n",
    "\n",
    "並且回答下面問題：\n",
    "\n",
    "1. Request 取回之後該怎麼取出資料，資料型態是什麼？\n",
    "2. 為什麼要使用 BeatifulSoup 處理？處理後的型態是什麼？\n",
    "3. 觀察一下知乎回來的資料好像有點怪怪的，該怎麼解決？"
   ]
  },
  {
   "cell_type": "markdown",
   "metadata": {},
   "source": [
    "### 1. Dcard 網址： https://www.dcard.tw/f"
   ]
  },
  {
   "cell_type": "code",
   "execution_count": 1,
   "metadata": {},
   "outputs": [],
   "source": [
    "import requests\n",
    "from bs4 import BeautifulSoup"
   ]
  },
  {
   "cell_type": "code",
   "execution_count": 2,
   "metadata": {},
   "outputs": [
    {
     "name": "stdout",
     "output_type": "stream",
     "text": [
      "<!DOCTYPE html><html lang=\"zh-Hant-TW\"><head prefix=\"og: http://ogp.me/ns#\" itemscope=\"\" itemType=\"https://schema.org/WebSite\"><title data-react-helmet=\"true\">Dcard</title><meta data-react-helmet=\"true\" property=\"og:image\" content=\"https://www.dcard.tw/build/landing-c9e7b8fb.png\"/><meta data-react-helmet=\"true\" property=\"og:image:secure_url\" content=\"https://www.dcard.tw/build/landing-c9e7b8fb.png\"/><meta data-react-helmet=\"true\" charSet=\"utf-8\"/><meta data-react-helmet=\"true\" http-equiv=\"X-UA-Compatible\" content=\"IE=edge\"/><meta data-react-helmet=\"true\" name=\"application-name\" content=\"Dcard\"/><meta data-react-helmet=\"true\" name=\"apple-itunes-app\" content=\"app-id=951353454\"/><meta data-react-helmet=\"true\" name=\"theme-color\" content=\"#006aa6\"/><meta data-react-helmet=\"true\" name=\"mobile-web-app-capable\" content=\"yes\"/><meta data-react-helmet=\"true\" name=\"apple-mobile-web-app-capable\" content=\"yes\"/><meta data-react-helmet=\"true\" property=\"fb:app_id\" content=\"211628828926493\"/><meta data-react-helmet=\"true\" property=\"fb:pages\" content=\"178875832200695,577748865730563,1333515469994506,619122564952487,804004803032067,178024805867764\"/><meta data-react-helmet=\"true\" property=\"al:ios:app_store_id\" content=\"951353454\"/><meta data-react-helmet=\"true\" property=\"al:ios:app_name\" content=\"Dcard\"/><meta data-react-helmet=\"true\" property=\"al:android:package\" content=\"com.sparkslab.dcardreader\"/><meta data-react-helmet=\"true\" property=\"al:android:app_name\" content=\"Dcard\"/><meta data-react-helmet=\"true\" property=\"og:type\" content=\"website\"/><meta data-react-helmet=\"true\" property=\"og:site_name\" content=\"Dcard\"/><meta data-react-helmet=\"true\" property=\"og:title\" content=\"Dcard\"/><meta data-react-helmet=\"true\" property=\"og:url\" content=\"https://www.dcard.tw/f\"/><meta data-react-helmet=\"true\" name=\"description\" content=\"廣受年輕人喜愛的  Dcard  是台灣最大的匿名交流平台，舉凡時事話題、感情心情、吃喝玩樂、學習工作等，都有卡友陪你聊！\"/><meta data-react-helmet=\"true\" property=\"og:description\" content=\"廣受年輕人喜愛的  Dcard  是台灣最大的匿名交流平台，舉凡時事話題、感情心情、吃喝玩樂、學習工作等，都有卡友陪你聊！\"/><meta data-react-helmet=\"true\" property=\"al:ios:url\" content=\"dcard://category/all/全部/hot\"/><meta data-react-helmet=\"true\" property=\"al:android:url\" content=\"dcard://category/all/全部/hot\"/><link data-react-helmet=\"true\" rel=\"icon\" sizes=\"32x32\" type=\"image/png\" href=\"/build/favicon_32-44259074.png\"/><link data-react-helmet=\"true\" rel=\"icon\" sizes=\"72x72\" type=\"image/png\" href=\"/build/favicon_72-45b1e0ba.png\"/><link data-react-helmet=\"true\" rel=\"icon\" sizes=\"512x512\" type=\"image/png\" href=\"/build/favicon_512-8aee0703.png\"/><link data-react-helmet=\"true\" rel=\"apple-touch-icon-precomposed\" href=\"/build/favicon_144-79557003.png\"/><link data-react-helmet=\"true\" rel=\"apple-touch-icon-precomposed\" href=\"/build/favicon_114-4a463b43.png\"/><link data-react-helmet=\"true\" rel=\"apple-touch-icon-precomposed\" href=\"/build/favicon_72-45b1e0ba.png\"/><link data-react-helmet=\"true\" rel=\"apple-touch-icon-precomposed\" href=\"/build/favicon_57-835f1693.png\"/><link data-react-helm\n"
     ]
    }
   ],
   "source": [
    "url = 'https://www.dcard.tw/f'\n",
    "\n",
    "r = requests.get(url)\n",
    "r.encoding = 'utf-8'\n",
    "print(r.text[0:3000])"
   ]
  },
  {
   "cell_type": "code",
   "execution_count": 4,
   "metadata": {},
   "outputs": [
    {
     "name": "stdout",
     "output_type": "stream",
     "text": [
      "Request 取回之後該怎麼取出資料，資料型態是什麼？ =>\n",
      "<class 'requests.models.Response'>\n",
      "要用beautifulsoup解析標籤來取出資料\n"
     ]
    }
   ],
   "source": [
    "print('Request 取回之後該怎麼取出資料，資料型態是什麼？ =>')\n",
    "print(type(r))\n",
    "print('要用beautifulsoup解析標籤來取出資料')"
   ]
  },
  {
   "cell_type": "code",
   "execution_count": 5,
   "metadata": {},
   "outputs": [
    {
     "name": "stdout",
     "output_type": "stream",
     "text": [
      "為什麼要使用 BeatifulSoup 處理？處理後的型態是什麼？ => \n",
      "<class 'bs4.BeautifulSoup'>\n",
      "因為soup型態可以找出標籤的內容及屬性\n"
     ]
    },
    {
     "data": {
      "text/plain": [
       "[<h3 class=\"Title__Text-v196i6-0 gmfDU\">捷運站的清潔人員哭了</h3>,\n",
       " <h3 class=\"Title__Text-v196i6-0 gmfDU\">真的有把我噁心到！浙江衛視沒有心</h3>,\n",
       " <h3 class=\"Title__Text-v196i6-0 gmfDU\">月經沒來很擔心，男友這種態度</h3>,\n",
       " <h3 class=\"Title__Text-v196i6-0 gmfDU\">不小心跟朋友做愛了怎麼辦？</h3>,\n",
       " <h3 class=\"Title__Text-v196i6-0 gmfDU\">💋卡友勸敗美到心花開！品木宣言🌹心花綻放精油唇膏💄 聖誕節🎄買二送一😍試色就抽「包色」24支全系列唇膏!!!</h3>,\n",
       " <h3 class=\"Title__Text-v196i6-0 gmfDU\">大庭廣眾下被襲胸</h3>,\n",
       " <h3 class=\"Title__Text-v196i6-0 gmfDU\">超商收到小費...</h3>,\n",
       " <h3 class=\"Title__Text-v196i6-0 gmfDU\">誓言抵制全世界！14億中國人狂吼『不屑與民主自由為伍！』，怒斥痛罵女神卡卡支持港獨、台獨，微博最大粉絲團更立馬切割關站。</h3>,\n",
       " <h3 class=\"Title__Text-v196i6-0 gmfDU\">交換禮物怎麼選🤔🤔🤔   🎁十四種秘密聖誕禮物🎁保你滿意 不會再氣pu pu的好選擇😘</h3>,\n",
       " <h3 class=\"Title__Text-v196i6-0 gmfDU\">李宰旭出道一週年快樂❤️</h3>,\n",
       " <h3 class=\"Title__Text-v196i6-0 gmfDU\">男友想幹大事(微微西斯)</h3>,\n",
       " <h3 class=\"Title__Text-v196i6-0 gmfDU\">女友出國都不帶錢</h3>,\n",
       " <h3 class=\"Title__Text-v196i6-0 gmfDU\">男友看過我的真面目後</h3>,\n",
       " <h3 class=\"Title__Text-v196i6-0 gmfDU\">無權干涉另一半是否刪除他的過去</h3>,\n",
       " <h3 class=\"Title__Text-v196i6-0 gmfDU\">heme x PopDaily 限量聯名系列🤎眼妝+唇彩各一</h3>,\n",
       " <h3 class=\"Title__Text-v196i6-0 gmfDU\">淫亂色魔慾望噴發！男港警為逞私慾再度違法撫摸捏掐少女腰窩屁股大腿內側</h3>,\n",
       " <h3 class=\"Title__Text-v196i6-0 gmfDU\">💜BTS防彈少年團💜2019 MMA 舞台 #解析 #安利</h3>,\n",
       " <h3 class=\"Title__Text-v196i6-0 gmfDU\">按愛心試看看&gt; &lt;</h3>,\n",
       " <h3 class=\"Title__Text-v196i6-0 gmfDU\">眉毛進化史</h3>,\n",
       " <h3 class=\"Title__Text-v196i6-0 gmfDU\">去年的今天我瞄到你的包裡有事後避孕藥</h3>,\n",
       " <h3 class=\"Title__Text-v196i6-0 gmfDU\">提醒您：分手了呦</h3>,\n",
       " <h3 class=\"Title__Text-v196i6-0 gmfDU\">#圖 覺得結婚的自己好美</h3>,\n",
       " <h3 class=\"Title__Text-v196i6-0 gmfDU\">想掐死男友的瞬間ಠ_ಠ</h3>,\n",
       " <h3 class=\"Title__Text-v196i6-0 gmfDU\">⚠️台灣大道公車變態⚠️(幫忙轉發)</h3>,\n",
       " <h3 class=\"Title__Text-v196i6-0 gmfDU\">我曾經是個犯人</h3>,\n",
       " <h3 class=\"Title__Text-v196i6-0 gmfDU\">Love poem妳用愛和溫柔交織的詩</h3>,\n",
       " <h3 class=\"Title__Text-v196i6-0 gmfDU\">減脂時，超商我吃什麼？</h3>,\n",
       " <h3 class=\"Title__Text-v196i6-0 gmfDU\">各位巨蟹也會這樣嗎？</h3>,\n",
       " <h3 class=\"Title__Text-v196i6-0 gmfDU\">蔡波能到底是桃貴的弟弟還是妹妹</h3>,\n",
       " <h3 class=\"Title__Text-v196i6-0 gmfDU\">💫質感第二彈🇳🇱荷蘭CLUSE簡約手錶⌚陪你走過與他的分分秒秒👩❤️👨</h3>,\n",
       " <h3 class=\"Title__Text-v196i6-0 gmfDU\">最近新發現的寶雅冷門好物✨</h3>]"
      ]
     },
     "execution_count": 5,
     "metadata": {},
     "output_type": "execute_result"
    }
   ],
   "source": [
    "print('為什麼要使用 BeatifulSoup 處理？處理後的型態是什麼？ => ')\n",
    "soup = BeautifulSoup(r.text, 'html5lib')\n",
    "print(type(soup))\n",
    "print('因為soup型態可以找出標籤的內容及屬性')\n",
    "soup.find_all('h3','Title__Text-v196i6-0 gmfDU')"
   ]
  },
  {
   "cell_type": "markdown",
   "metadata": {},
   "source": [
    "### 2. 知乎： https://www.zhihu.com/explore"
   ]
  },
  {
   "cell_type": "code",
   "execution_count": 8,
   "metadata": {},
   "outputs": [
    {
     "name": "stdout",
     "output_type": "stream",
     "text": [
      "<html>\r\n",
      "<head><title>400 Bad Request</title></head>\r\n",
      "<body bgcolor=\"white\">\r\n",
      "<center><h1>400 Bad Request</h1></center>\r\n",
      "<hr><center>openresty</center>\r\n",
      "</body>\r\n",
      "</html>\r\n",
      "\n"
     ]
    }
   ],
   "source": [
    "url = 'https://www.zhihu.com/explore'\n",
    "r = requests.get(url)\n",
    "r.encoding = 'utf-8'\n",
    "print(r.text[0:600])"
   ]
  },
  {
   "cell_type": "markdown",
   "metadata": {},
   "source": [
    "### 3. 觀察一下知乎回來的資料好像有點怪怪的，該怎麼解決？"
   ]
  },
  {
   "cell_type": "code",
   "execution_count": 9,
   "metadata": {},
   "outputs": [
    {
     "name": "stdout",
     "output_type": "stream",
     "text": [
      "<!doctype html>\n",
      "<html lang=\"zh\" data-hairline=\"true\" data-theme=\"light\"><head><meta charSet=\"utf-8\"/><title data-react-helmet=\"true\">发现 - 知乎</title><meta name=\"viewport\" content=\"width=device-width,initial-scale=1,maximum-scale=1\"/><meta name=\"renderer\" content=\"webkit\"/><meta name=\"force-rendering\" content=\"webkit\"/><meta http-equiv=\"X-UA-Compatible\" content=\"IE=edge,chrome=1\"/><meta name=\"google-site-verification\" content=\"FTeR0c8arOPKh8c5DYh_9uu98_zJbaWw53J-Sch9MTg\"/><meta name=\"description\" property=\"og:description\" content=\"有问题，上知乎。知乎，可信赖的问答社区，以让每个人高效获得可信赖的解答为使命。知乎凭借认真、专业和友善的社区氛围，结构化、易获得的\n"
     ]
    }
   ],
   "source": [
    "import requests\n",
    "url = 'https://www.zhihu.com/explore'\n",
    "headers = {'user-agent': 'Mozilla/5.0 (Windows NT 10.0; Win64; x64) AppleWebKit/537.36 (KHTML, like Gecko) Chrome/78.0.3904.108 Safari/537.36'}\n",
    "\n",
    "r = requests.get(url, headers=headers)\n",
    "\n",
    "r.encoding = 'utf-8'\n",
    "print(r.text[0:600])"
   ]
  },
  {
   "cell_type": "code",
   "execution_count": null,
   "metadata": {},
   "outputs": [],
   "source": []
  },
  {
   "cell_type": "code",
   "execution_count": null,
   "metadata": {},
   "outputs": [],
   "source": []
  }
 ],
 "metadata": {
  "kernelspec": {
   "display_name": "Python 3",
   "language": "python",
   "name": "python3"
  },
  "language_info": {
   "codemirror_mode": {
    "name": "ipython",
    "version": 3
   },
   "file_extension": ".py",
   "mimetype": "text/x-python",
   "name": "python",
   "nbconvert_exporter": "python",
   "pygments_lexer": "ipython3",
   "version": "3.6.6"
  }
 },
 "nbformat": 4,
 "nbformat_minor": 2
}
