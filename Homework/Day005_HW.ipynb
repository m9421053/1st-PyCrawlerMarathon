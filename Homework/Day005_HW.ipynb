{
 "cells": [
  {
   "cell_type": "markdown",
   "metadata": {},
   "source": [
    "# API 資料串接 - 以 Dcard API 實作範例\n",
    "\n",
    "* 利用 urllib 套件的 urlretrieve 方法下載檔案\n",
    "* 了解 Python File I/O 讀檔、寫檔的用法\n",
    "* 能用運用資源管理器 With Statement 優化寫法"
   ]
  },
  {
   "cell_type": "markdown",
   "metadata": {},
   "source": [
    "## 作業目標\n",
    "\n",
    "* 請利用 API: https://www.dcard.tw/_api/forums/pet/posts?popular=true 回答下列問題：\n",
    "\n",
    "1. 這個 API 一次會回傳幾筆資料？每一筆資料包含哪些欄位？\n",
    "2. 取出每一筆資料的「標題」、「貼文時間」、「留言人數」、「按讚人數」\n",
    "3. 計算熱門/非熱門文章的「平均留言人數」與「平均按讚人數」"
   ]
  },
  {
   "cell_type": "code",
   "execution_count": 2,
   "metadata": {},
   "outputs": [],
   "source": [
    "import requests\n",
    "import json\n",
    "from urllib.request import urlretrieve\n",
    "import os"
   ]
  },
  {
   "cell_type": "code",
   "execution_count": 7,
   "metadata": {},
   "outputs": [
    {
     "name": "stdout",
     "output_type": "stream",
     "text": [
      "一筆資料的欄位有:\n",
      "id\n",
      "title\n",
      "excerpt\n",
      "anonymousSchool\n",
      "anonymousDepartment\n",
      "pinned\n",
      "forumId\n",
      "replyId\n",
      "createdAt\n",
      "updatedAt\n",
      "commentCount\n",
      "likeCount\n",
      "withNickname\n",
      "tags\n",
      "topics\n",
      "meta\n",
      "forumName\n",
      "forumAlias\n",
      "gender\n",
      "school\n",
      "department\n",
      "replyTitle\n",
      "mediaMeta\n",
      "reactions\n",
      "hidden\n",
      "customStyle\n",
      "isSuspiciousAccount\n",
      "layout\n",
      "withImages\n",
      "withVideos\n",
      "media\n",
      "reportReasonText\n",
      "postAvatar\n",
      "全部共有 30 筆資料\n"
     ]
    }
   ],
   "source": [
    "# 1. 這個 API 一次會回傳幾筆資料？每一筆資料包含哪些欄位？\n",
    "r = requests.get('https://www.dcard.tw/_api/forums/pet/posts?popular=true')\n",
    "r = json.loads(r.text)\n",
    "print('一筆資料的欄位有:')\n",
    "for i in r[0].keys():\n",
    "    print(i)\n",
    "    \n",
    "print('全部共有',len(r), '筆資料')\n"
   ]
  },
  {
   "cell_type": "code",
   "execution_count": 13,
   "metadata": {},
   "outputs": [
    {
     "name": "stdout",
     "output_type": "stream",
     "text": [
      "第 1 筆資料\n",
      "不要被薩摩耶給騙了！ 2019-11-29T00:25:38.826Z 26 則留言， 892 個讚\n",
      "第 2 筆資料\n",
      "這些狗你認識嗎😍 2019-11-28T04:08:18.539Z 21 則留言， 813 個讚\n",
      "第 3 筆資料\n",
      "充滿柴柴的人生❤️ 2019-11-28T07:19:45.391Z 5 則留言， 283 個讚\n",
      "第 4 筆資料\n",
      "#圖多 偷看🐹上廁所...... 2019-11-28T13:44:17.224Z 15 則留言， 251 個讚\n",
      "第 5 筆資料\n",
      "請問這樣算不算虐貓 2019-11-28T09:04:40.825Z 25 則留言， 174 個讚\n",
      "第 6 筆資料\n",
      "兄弟貓🧐 2019-11-28T12:25:11.285Z 4 則留言， 93 個讚\n",
      "第 7 筆資料\n",
      "沒有責任感根本沒資格養寵物 2019-11-28T11:47:21.176Z 9 則留言， 81 個讚\n",
      "第 8 筆資料\n",
      "#圖 柴柴 你能懂我的明白嗎？ 2019-11-28T16:22:31.895Z 6 則留言， 69 個讚\n",
      "第 9 筆資料\n",
      "紙袋破壞王🏆 2019-11-28T09:43:33.709Z 4 則留言， 62 個讚\n",
      "第 10 筆資料\n",
      "幼貓送養🐱 2019-11-28T13:38:34.117Z 5 則留言， 50 個讚\n",
      "第 11 筆資料\n",
      "高科大校板的遺失倉鼠 2019-11-28T05:23:12.530Z 1 則留言， 40 個讚\n",
      "第 12 筆資料\n",
      "天冷怎麼辦ಥ_ಥ #柯基#圖多 2019-11-28T15:47:50.708Z 0 則留言， 39 個讚\n",
      "第 13 筆資料\n",
      "我竟然被我家ㄉ狗鄙視！ 2019-11-28T16:51:07.018Z 1 則留言， 35 個讚\n",
      "第 14 筆資料\n",
      "幼貓送養文 2019-11-28T02:52:25.651Z 5 則留言， 29 個讚\n",
      "第 15 筆資料\n",
      "貓咪教妳皮笑肉不笑🙂 2019-11-28T11:55:17.571Z 2 則留言， 27 個讚\n",
      "第 16 筆資料\n",
      "#募款 #貓 愛在街角，守護浪貓 2019-11-28T07:11:04.741Z 1 則留言， 27 個讚\n",
      "第 17 筆資料\n",
      "你也知道要坐那 2019-11-28T17:00:22.755Z 3 則留言， 23 個讚\n",
      "第 18 筆資料\n",
      "請問有人的柴犬走失嗎？(已找到失主，謝謝大家的幫忙🙏） 2019-11-28T14:57:09.825Z 3 則留言， 23 個讚\n",
      "第 19 筆資料\n",
      "求吸鴨地點 2019-11-28T03:29:49.177Z 11 則留言， 20 個讚\n",
      "第 20 筆資料\n",
      "當我的貓和海豹都是一個囧臉 2019-11-28T05:35:09.787Z 4 則留言， 18 個讚\n",
      "第 21 筆資料\n",
      "我養了一隻樹懶🦥 2019-11-28T12:18:21.317Z 5 則留言， 17 個讚\n",
      "第 22 筆資料\n",
      "協尋幼犬 2019-11-28T03:29:33.883Z 1 則留言， 15 個讚\n",
      "第 23 筆資料\n",
      "我家柴犬一系列照片 2019-11-29T05:02:04.820Z 0 則留言， 13 個讚\n",
      "第 24 筆資料\n",
      "就是你！！！我的菜！！！ 2019-11-29T03:10:51.060Z 0 則留言， 11 個讚\n",
      "第 25 筆資料\n",
      "👻我的隱形貓貓 2019-11-28T03:34:49.818Z 2 則留言， 11 個讚\n",
      "第 26 筆資料\n",
      "有愛的假兄弟 2019-11-29T04:09:24.480Z 0 則留言， 9 個讚\n",
      "第 27 筆資料\n",
      "限動裡的小三線們 2019-11-29T04:00:40.448Z 2 則留言， 9 個讚\n",
      "第 28 筆資料\n",
      "問貓貓的帳號 2019-11-28T11:30:50.129Z 0 則留言， 9 個讚\n",
      "第 29 筆資料\n",
      "吸貓治百病 2019-11-29T06:53:05.300Z 2 則留言， 8 個讚\n",
      "第 30 筆資料\n",
      "走失狗狗 2019-11-28T03:23:31.964Z 1 則留言， 8 個讚\n"
     ]
    }
   ],
   "source": [
    "# 2. 取出每一筆資料的「標題title」、「貼文時間createdAt」、「留言人數commentCount」、「按讚人數likeCount」\n",
    "for i,v in enumerate(r):\n",
    "    print('第',i+1,'筆資料')\n",
    "    print(v['title'], v['createdAt'], v['commentCount'],'則留言，', v['likeCount'],'個讚')"
   ]
  },
  {
   "cell_type": "code",
   "execution_count": 15,
   "metadata": {},
   "outputs": [
    {
     "name": "stdout",
     "output_type": "stream",
     "text": [
      "熱門文章的平均留言人數是:  5.466666666666667\n",
      "熱門文章的平均按讚人數是： 105.3\n"
     ]
    }
   ],
   "source": [
    "# 3. 計算熱門/非熱門文章的「平均留言人數」與「平均按讚人數」\n",
    "\n",
    "count = 0\n",
    "like = 0\n",
    "for i in r:\n",
    "    count = count + int(i['commentCount'])\n",
    "    like = like + int(i['likeCount'])\n",
    "print('熱門文章的平均留言人數是: ',count /len(r))\n",
    "print('熱門文章的平均按讚人數是：',like/ len(r))"
   ]
  },
  {
   "cell_type": "code",
   "execution_count": 17,
   "metadata": {},
   "outputs": [
    {
     "name": "stdout",
     "output_type": "stream",
     "text": [
      "最新文章的平均留言人數是:  3.1333333333333333\n",
      "最新文章的平均按讚人數是： 39.7\n"
     ]
    }
   ],
   "source": [
    "n = requests.get('https://www.dcard.tw/_api/forums/pet/posts?popular=false')\n",
    "n = json.loads(n.text)\n",
    "\n",
    "count = 0\n",
    "like = 0\n",
    "for i in n:\n",
    "    count = count + int(i['commentCount'])\n",
    "    like = like + int(i['likeCount'])\n",
    "print('最新文章的平均留言人數是: ',count /len(r))\n",
    "print('最新文章的平均按讚人數是：',like/ len(r))"
   ]
  },
  {
   "cell_type": "code",
   "execution_count": null,
   "metadata": {},
   "outputs": [],
   "source": []
  }
 ],
 "metadata": {
  "kernelspec": {
   "display_name": "Python 3",
   "language": "python",
   "name": "python3"
  },
  "language_info": {
   "codemirror_mode": {
    "name": "ipython",
    "version": 3
   },
   "file_extension": ".py",
   "mimetype": "text/x-python",
   "name": "python",
   "nbconvert_exporter": "python",
   "pygments_lexer": "ipython3",
   "version": "3.6.6"
  }
 },
 "nbformat": 4,
 "nbformat_minor": 2
}
